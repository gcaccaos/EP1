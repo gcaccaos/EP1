{
 "cells": [
  {
   "cell_type": "code",
   "execution_count": 35,
   "metadata": {},
   "outputs": [],
   "source": [
    "# Creates a simple random distance matrix\n",
    "randDistInput <- function(nCities, minDist = 1, maxDist = 100) {\n",
    "    nRows <- nCities**2;\n",
    "    randDistances <- sample(minDist:maxDist, nRows)\n",
    "    distances <- matrix(randDistances, nCities, nCities)\n",
    "    for(i in 1:nCities) {\n",
    "        for(j in 1:nCities) {\n",
    "            if(runif(1, min = 0, max = 1) < 1/(2*nCities)) {\n",
    "                distances[i, j] <- Inf\n",
    "            }\n",
    "            distances[j, i] <- distances [i, j]\n",
    "        }\n",
    "        distances[i, i] <- 0\n",
    "    }\n",
    "    return(distances)\n",
    "}"
   ]
  },
  {
   "cell_type": "code",
   "execution_count": 2,
   "metadata": {
    "collapsed": true
   },
   "outputs": [],
   "source": [
    "# Calcualtes all the possible permutations\n",
    "permutations <- function(n) {\n",
    "    if(n == 1) return(matrix(1))\n",
    "    else {\n",
    "        sp <- permutations(n - 1)\n",
    "        p <- nrow(sp)\n",
    "        A <- matrix(nrow = n*p, ncol = n)\n",
    "        for(i in 1:n) {\n",
    "            A[(i - 1)*p + 1:p, ] <- cbind(i, sp + (sp >= i))\n",
    "        }\n",
    "        return(A)\n",
    "    }\n",
    "}"
   ]
  },
  {
   "cell_type": "code",
   "execution_count": 3,
   "metadata": {},
   "outputs": [],
   "source": [
    "getTotalDistance <- function(path, distances) {\n",
    "    totalDistance <- 0\n",
    "    for(n in 1:(length(path) - 1)) {\n",
    "        totalDistance <- totalDistance + distances[path[n], path[n + 1]]\n",
    "    }\n",
    "    return(totalDistance)\n",
    "}"
   ]
  },
  {
   "cell_type": "code",
   "execution_count": 4,
   "metadata": {},
   "outputs": [],
   "source": [
    "bruteForcePath <- function(distances) {\n",
    "    minScore <- Inf\n",
    "    nCities <- nrow(distances)\n",
    "    possiblePaths <- permutations(nCities)\n",
    "    for(nPath in 1:nrow(possiblePaths)) {\n",
    "        path <- c(possiblePaths[nPath, ], possiblePaths[nPath, 1])\n",
    "        thisPathScore <- getTotalDistance(path, distances)\n",
    "        if(thisPathScore < minScore) {\n",
    "            minPathNumber <- nPath\n",
    "            minScore <- thisPathScore\n",
    "        } \n",
    "    }\n",
    "    minPath <- possiblePaths[minPathNumber, ]\n",
    "    return(minPath)\n",
    "}"
   ]
  },
  {
   "cell_type": "code",
   "execution_count": 5,
   "metadata": {},
   "outputs": [],
   "source": [
    "# Brute force minimum distance path\n",
    "bruteForce <- function(distances) {\n",
    "    startTime <- Sys.time()\n",
    "    solutionPath <- bruteForcePath(distances)\n",
    "    solutionDistance <- getTotalDistance(c(solutionPath, solutionPath[1]), distances)\n",
    "    executionTime <- Sys.time() - startTime\n",
    "    cat(\"Cost:\", solutionDistance, \"\\nExecution time:\", executionTime, \"\\nPath:\", solutionPath)\n",
    "}"
   ]
  },
  {
   "cell_type": "code",
   "execution_count": 45,
   "metadata": {},
   "outputs": [],
   "source": [
    "exactSolution <- function(distances) {\n",
    "    cat(\"Distance matrix:\\n\")\n",
    "    print(distances)\n",
    "    bruteForce(distances)\n",
    "}"
   ]
  },
  {
   "cell_type": "code",
   "execution_count": 53,
   "metadata": {},
   "outputs": [
    {
     "name": "stdout",
     "output_type": "stream",
     "text": [
      "Distance matrix:\n",
      "      V1 V2  V3 V4\n",
      "[1,]   0 38 Inf 50\n",
      "[2,]  38  0  88 71\n",
      "[3,] Inf 88   0 29\n",
      "[4,]  50 71  29  0\n",
      "Cost: 205 \n",
      "Execution time: 0.001000881 \n",
      "Path: 1 2 3 4"
     ]
    }
   ],
   "source": [
    "# Example input\n",
    "exampleDistances <- as.matrix(read.table(\"./inputs/example1.csv\", sep = ',', header = TRUE))\n",
    "exactSolution(exampleDistances)"
   ]
  },
  {
   "cell_type": "code",
   "execution_count": 55,
   "metadata": {},
   "outputs": [
    {
     "name": "stdout",
     "output_type": "stream",
     "text": [
      "Distance matrix:\n",
      "     V1 V2 V3 V4  V5 V6  V7 V8\n",
      "[1,]  0 68 48 45  90 30  35 51\n",
      "[2,] 68  0 64 14  94 28  25 34\n",
      "[3,] 48 64  0 36  17 96  19  2\n",
      "[4,] 45 14 36  0  46 79  58 98\n",
      "[5,] 90 94 17 46   0 74 Inf 56\n",
      "[6,] 30 28 96 79  74  0   5 78\n",
      "[7,] 35 25 19 58 Inf  5   0 18\n",
      "[8,] 51 34  2 98  56 78  18  0\n",
      "Cost: 190 \n",
      "Execution time: 2.470788 \n",
      "Path: 1 6 2 4 5 3 8 7"
     ]
    }
   ],
   "source": [
    "# Random input\n",
    "randomDistances <- as.matrix(read.table(\"./inputs/random1.csv\", sep = ',', header = TRUE))\n",
    "exactSolution(randomDistances)"
   ]
  },
  {
   "cell_type": "code",
   "execution_count": 109,
   "metadata": {},
   "outputs": [],
   "source": [
    "greedySolution <- function(distances) {\n",
    "    nCities <- nrow(distances)\n",
    "    path <- c(1)\n",
    "    # choose next city\n",
    "    while(length(path) < nCities) {\n",
    "        currentCity <- tail(path)\n",
    "        currentDistances <- distances[currentCity, ]\n",
    "        minDist <- Inf\n",
    "        for(n in 1:nCities) {\n",
    "            if(!(n %in% path)) {\n",
    "                thisDistance <- currentDistances[n]\n",
    "                if(thisDistance < minDist) {\n",
    "                    nextCity <- n\n",
    "                    minDist <- thisDistance\n",
    "                }\n",
    "            }\n",
    "        }\n",
    "        path <- c(path, nextCity)\n",
    "    }\n",
    "    return(path)\n",
    "}"
   ]
  },
  {
   "cell_type": "code",
   "execution_count": 110,
   "metadata": {},
   "outputs": [
    {
     "data": {
      "text/html": [
       "<ol class=list-inline>\n",
       "\t<li>1</li>\n",
       "\t<li>2</li>\n",
       "\t<li>4</li>\n",
       "\t<li>3</li>\n",
       "</ol>\n"
      ],
      "text/latex": [
       "\\begin{enumerate*}\n",
       "\\item 1\n",
       "\\item 2\n",
       "\\item 4\n",
       "\\item 3\n",
       "\\end{enumerate*}\n"
      ],
      "text/markdown": [
       "1. 1\n",
       "2. 2\n",
       "3. 4\n",
       "4. 3\n",
       "\n",
       "\n"
      ],
      "text/plain": [
       "[1] 1 2 4 3"
      ]
     },
     "metadata": {},
     "output_type": "display_data"
    }
   ],
   "source": [
    "greedySolution(exampleDistances)"
   ]
  },
  {
   "cell_type": "code",
   "execution_count": 111,
   "metadata": {},
   "outputs": [
    {
     "data": {
      "text/html": [
       "<ol class=list-inline>\n",
       "\t<li>1</li>\n",
       "\t<li>6</li>\n",
       "\t<li>4</li>\n",
       "\t<li>5</li>\n",
       "\t<li>7</li>\n",
       "\t<li>8</li>\n",
       "\t<li>2</li>\n",
       "\t<li>3</li>\n",
       "</ol>\n"
      ],
      "text/latex": [
       "\\begin{enumerate*}\n",
       "\\item 1\n",
       "\\item 6\n",
       "\\item 4\n",
       "\\item 5\n",
       "\\item 7\n",
       "\\item 8\n",
       "\\item 2\n",
       "\\item 3\n",
       "\\end{enumerate*}\n"
      ],
      "text/markdown": [
       "1. 1\n",
       "2. 6\n",
       "3. 4\n",
       "4. 5\n",
       "5. 7\n",
       "6. 8\n",
       "7. 2\n",
       "8. 3\n",
       "\n",
       "\n"
      ],
      "text/plain": [
       "[1] 1 6 4 5 7 8 2 3"
      ]
     },
     "metadata": {},
     "output_type": "display_data"
    }
   ],
   "source": [
    "greedySolution(randomDistances)"
   ]
  },
  {
   "cell_type": "code",
   "execution_count": null,
   "metadata": {},
   "outputs": [],
   "source": []
  }
 ],
 "metadata": {
  "kernelspec": {
   "display_name": "R",
   "language": "R",
   "name": "ir"
  },
  "language_info": {
   "codemirror_mode": "r",
   "file_extension": ".r",
   "mimetype": "text/x-r-source",
   "name": "R",
   "pygments_lexer": "r",
   "version": "3.5.1"
  }
 },
 "nbformat": 4,
 "nbformat_minor": 2
}

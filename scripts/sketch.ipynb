{
 "cells": [
  {
   "cell_type": "code",
   "execution_count": 1,
   "metadata": {},
   "outputs": [],
   "source": [
    "# Creates a simple random distance matrix\n",
    "randDistInput <- function(nCities, minDist = 1, maxDist = 100) {\n",
    "    nRows <- nCities**2;\n",
    "    randDistances <- sample(minDist:maxDist, nRows)\n",
    "    distances <- matrix(randDistances, nCities, nCities)\n",
    "    for(i in 1:nCities) {\n",
    "        for(j in 1:nCities) {\n",
    "            distances[i, j] <- distances [j, i]\n",
    "            if(runif(1, min = 0, max = 1) < 1/(2*nCities)) {\n",
    "                distances[i, j] <- Inf\n",
    "            }\n",
    "        }\n",
    "        distances[i, i] <- 0\n",
    "    }\n",
    "    return(distances)\n",
    "}"
   ]
  },
  {
   "cell_type": "code",
   "execution_count": 2,
   "metadata": {
    "collapsed": true
   },
   "outputs": [],
   "source": [
    "# Calcualtes all the possible permutations\n",
    "permutations <- function(n) {\n",
    "    if(n == 1) return(matrix(1))\n",
    "    else {\n",
    "        sp <- permutations(n - 1)\n",
    "        p <- nrow(sp)\n",
    "        A <- matrix(nrow = n*p, ncol = n)\n",
    "        for(i in 1:n) {\n",
    "            A[(i - 1)*p + 1:p, ] <- cbind(i, sp + (sp >= i))\n",
    "        }\n",
    "        return(A)\n",
    "    }\n",
    "}"
   ]
  },
  {
   "cell_type": "code",
   "execution_count": 3,
   "metadata": {},
   "outputs": [],
   "source": [
    "getTotalDistance <- function(path, distances) {\n",
    "    totalDistance <- 0\n",
    "    for(n in 1:(length(path) - 1)) {\n",
    "        totalDistance <- totalDistance + distances[path[n], path[n + 1]]\n",
    "    }\n",
    "    return(totalDistance)\n",
    "}"
   ]
  },
  {
   "cell_type": "code",
   "execution_count": 4,
   "metadata": {},
   "outputs": [],
   "source": [
    "bruteForcePath <- function(distances) {\n",
    "    minScore <- Inf\n",
    "    nCities <- nrow(distances)\n",
    "    possiblePaths <- permutations(nCities)\n",
    "    for(nPath in 1:nrow(possiblePaths)) {\n",
    "        path <- c(possiblePaths[nPath, ], possiblePaths[nPath, 1])\n",
    "        thisPathScore <- getTotalDistance(path, distances)\n",
    "        if(thisPathScore < minScore) {\n",
    "            minPathNumber <- nPath\n",
    "            minScore <- thisPathScore\n",
    "        } \n",
    "    }\n",
    "    minPath <- possiblePaths[minPathNumber, ]\n",
    "    return(minPath)\n",
    "}"
   ]
  },
  {
   "cell_type": "code",
   "execution_count": 5,
   "metadata": {},
   "outputs": [],
   "source": [
    "# Brute force minimum distance path\n",
    "bruteForce <- function(distances) {\n",
    "    startTime <- Sys.time()\n",
    "    solutionPath <- bruteForcePath(distances)\n",
    "    solutionDistance <- getTotalDistance(c(solutionPath, solutionPath[1]), distances)\n",
    "    executionTime <- Sys.time() - startTime\n",
    "    cat(\"Cost:\", solutionDistance, \"\\nExecution time:\", executionTime, \"\\nPath:\", solutionPath)\n",
    "}"
   ]
  },
  {
   "cell_type": "code",
   "execution_count": 19,
   "metadata": {},
   "outputs": [
    {
     "name": "stdout",
     "output_type": "stream",
     "text": [
      "Example distance matrix:\n",
      "     [,1] [,2] [,3] [,4]\n",
      "[1,]    0   38  Inf   50\n",
      "[2,]   38    0   88   71\n",
      "[3,]  Inf   88    0   29\n",
      "[4,]   50   71   29    0\n",
      "Cost: 205 \n",
      "Execution time: 0.001000166 \n",
      "Path: 1 2 3 4"
     ]
    }
   ],
   "source": [
    "# Example input\n",
    "example = c(0,38,Inf,50,38,0,88,71,Inf,88,0,29,50,71,29,0)\n",
    "exampleDistances = matrix(example, nrow = 4, ncol = 4)\n",
    "cat(\"Example distance matrix:\\n\")\n",
    "print(exampleDistances)\n",
    "bruteForce(exampleDistances)"
   ]
  },
  {
   "cell_type": "code",
   "execution_count": 7,
   "metadata": {},
   "outputs": [
    {
     "name": "stdout",
     "output_type": "stream",
     "text": [
      "Distance matrix:\n",
      "     [,1] [,2] [,3] [,4] [,5] [,6] [,7] [,8]\n",
      "[1,]    0   74   60   53   68   70   23   32\n",
      "[2,]   74    0   46   19    2   76   54   96\n",
      "[3,]   60   46    0   88  100   62   65   77\n",
      "[4,]  Inf   19  Inf    0   78   26   15   52\n",
      "[5,]   68    2  100   78    0   28   35   87\n",
      "[6,]   70   76   62   26   28    0   34   93\n",
      "[7,]   23   54   65   15   35   34    0   24\n",
      "[8,]   32  Inf   77   52   87   93   24    0\n",
      "Cost: 233 \n",
      "Execution time: 0.2810571 \n",
      "Path: 1 3 2 5 6 4 7 8"
     ]
    }
   ],
   "source": [
    "# Random input\n",
    "distances <- randDistInput(8)\n",
    "cat(\"Distance matrix:\\n\")\n",
    "print(distances)\n",
    "bruteForce(distances)"
   ]
  },
  {
   "cell_type": "code",
   "execution_count": null,
   "metadata": {},
   "outputs": [],
   "source": []
  }
 ],
 "metadata": {
  "kernelspec": {
   "display_name": "R",
   "language": "R",
   "name": "ir"
  },
  "language_info": {
   "codemirror_mode": "r",
   "file_extension": ".r",
   "mimetype": "text/x-r-source",
   "name": "R",
   "pygments_lexer": "r",
   "version": "3.5.1"
  }
 },
 "nbformat": 4,
 "nbformat_minor": 2
}

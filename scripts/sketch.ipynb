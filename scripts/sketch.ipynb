{
 "cells": [
  {
   "cell_type": "code",
   "execution_count": 1,
   "metadata": {},
   "outputs": [],
   "source": [
    "# Creates a simple random distance matrix\n",
    "randDistInput <- function(nCities, minDist = 1, maxDist = 100) {\n",
    "    nRows <- nCities**2;\n",
    "    randDistances <- sample(minDist:maxDist, nRows, replace = TRUE)\n",
    "    distances <- matrix(randDistances, nCities, nCities)\n",
    "    for(i in 1:nCities) {\n",
    "        for(j in 1:nCities) {\n",
    "            if(runif(1, min = 0, max = 1) < 1/(2*nCities)) {\n",
    "                distances[i, j] <- Inf\n",
    "            }\n",
    "            distances[j, i] <- distances [i, j]\n",
    "        }\n",
    "        distances[i, i] <- 0\n",
    "    }\n",
    "    return(distances)\n",
    "}"
   ]
  },
  {
   "cell_type": "code",
   "execution_count": 2,
   "metadata": {
    "collapsed": true
   },
   "outputs": [],
   "source": [
    "# Calculates all the possible permutations\n",
    "permutations <- function(n) {\n",
    "    if(n == 1) return(matrix(1))\n",
    "    else {\n",
    "        sp <- permutations(n - 1)\n",
    "        p <- nrow(sp)\n",
    "        A <- matrix(nrow = n*p, ncol = n)\n",
    "        for(i in 1:n) {\n",
    "            A[(i - 1)*p + 1:p, ] <- cbind(i, sp + (sp >= i))\n",
    "        }\n",
    "        return(A)\n",
    "    }\n",
    "}"
   ]
  },
  {
   "cell_type": "code",
   "execution_count": 3,
   "metadata": {},
   "outputs": [],
   "source": [
    "# Sums up all the distances in the path\n",
    "getTotalDistance <- function(path, distances) {\n",
    "    path <- c(path, path[1])\n",
    "    totalDistance <- 0\n",
    "    for(n in 1:(length(path) - 1)) {\n",
    "        totalDistance <- totalDistance + distances[path[n], path[n + 1]]\n",
    "    }\n",
    "    return(totalDistance)\n",
    "}"
   ]
  },
  {
   "cell_type": "code",
   "execution_count": 4,
   "metadata": {},
   "outputs": [],
   "source": [
    "# Finds a path with the smallest possible total distance\n",
    "bruteForcePath <- function(distances) {\n",
    "    shortestPathLength <- Inf\n",
    "    nCities <- nrow(distances)\n",
    "    possiblePaths <- cbind(c(1), permutations(nCities - 1) + 1)\n",
    "    for(nPath in 1:nrow(possiblePaths)) {\n",
    "        path <- possiblePaths[nPath, ]\n",
    "        thisPathLength <- getTotalDistance(path, distances)\n",
    "        if(thisPathLength < shortestPathLength) {\n",
    "            minPathNumber <- nPath\n",
    "            shortestPathLength <- thisPathLength\n",
    "        } \n",
    "    }\n",
    "    minPath <- possiblePaths[minPathNumber, ]\n",
    "    return(minPath)\n",
    "}"
   ]
  },
  {
   "cell_type": "code",
   "execution_count": 5,
   "metadata": {},
   "outputs": [],
   "source": [
    "# Finds a solution through a greedy search heuristic\n",
    "greedySolution <- function(distances) {\n",
    "    nCities <- nrow(distances)\n",
    "    visitedCities <- c(1)\n",
    "    while(length(visitedCities) < nCities) {\n",
    "        currentCity <- tail(visitedCities, n = 1)\n",
    "        neighboursDistances <- distances[currentCity, ]\n",
    "        minDist <- Inf\n",
    "        availableNeighbours <- 1:nCities\n",
    "        availableNeighbours <- availableNeighbours[!(availableNeighbours %in% visitedCities)]\n",
    "        for(neighbour in availableNeighbours) {\n",
    "            thisDistance <- neighboursDistances[neighbour]\n",
    "            if(thisDistance < minDist) {\n",
    "                nextCity <- neighbour\n",
    "                minDist <- thisDistance\n",
    "            }\n",
    "        }\n",
    "        visitedCities <- c(visitedCities, nextCity)\n",
    "    }\n",
    "    return(visitedCities)\n",
    "}"
   ]
  },
  {
   "cell_type": "code",
   "execution_count": 6,
   "metadata": {},
   "outputs": [],
   "source": [
    "# Performs the swap in the 2-opt algorithm by reversing the path between cities i and j\n",
    "twoOptSwap <- function(path, i, j) {\n",
    "    nCities = length(path)\n",
    "    newPath <- path[1:(i - 1)]\n",
    "    newPath <- c(newPath, rev(path[i:j]))\n",
    "    if(j != nCities) {\n",
    "        newPath <- c(newPath, path[(j + 1):(nCities)])\n",
    "    }\n",
    "    return(newPath)\n",
    "}"
   ]
  },
  {
   "cell_type": "code",
   "execution_count": 7,
   "metadata": {},
   "outputs": [],
   "source": [
    "# 2-opt core function\n",
    "twoOpt <- function(path, distances) {\n",
    "    bestPath <- path\n",
    "    bestDistance <- getTotalDistance(bestPath, distances)\n",
    "    nCities <- length(bestPath)\n",
    "    \n",
    "    improvement <- TRUE\n",
    "    while(improvement) {\n",
    "        improvement <- FALSE\n",
    "        for(i in 2:(nCities - 1)) {\n",
    "            for(j in (i + 1):nCities) {\n",
    "                newPath <- twoOptSwap(bestPath, i, j)\n",
    "                newDistance <- getTotalDistance(newPath, distances)\n",
    "                if(newDistance < bestDistance) {\n",
    "                    bestDistance <- newDistance\n",
    "                    bestPath <- newPath\n",
    "                    improvement <- TRUE\n",
    "                    break\n",
    "                }\n",
    "            }\n",
    "            if(improvement) {\n",
    "                break\n",
    "            }\n",
    "        }\n",
    "    }\n",
    "    return(bestPath)\n",
    "}"
   ]
  },
  {
   "cell_type": "code",
   "execution_count": 8,
   "metadata": {},
   "outputs": [],
   "source": [
    "# Function to solve de TSP\n",
    "solveTSP <- function(distances, method = \"auto\") {   \n",
    "    startTime <- Sys.time()\n",
    "       \n",
    "    if(method == \"auto\") {\n",
    "        if(nCities < 9) {\n",
    "            method <- \"exact\"\n",
    "        }\n",
    "        else {\n",
    "            method <- \"greedy-2opt\"\n",
    "        }\n",
    "    }\n",
    "    \n",
    "    if(method == \"exact\") {\n",
    "        solutionPath <- bruteForcePath(distances)\n",
    "    }\n",
    "    else {\n",
    "        solutionPath <- greedySolution(distances)\n",
    "        if(method == \"greedy-2opt\") {\n",
    "            solutionPath <- twoOpt(solutionPath, distances)\n",
    "        }\n",
    "    }\n",
    "    \n",
    "    endTime <- Sys.time()\n",
    "    executionTime <- endTime - startTime\n",
    "    \n",
    "    solutionDistance <- getTotalDistance(solutionPath, distances)\n",
    "    \n",
    "    return(c(solutionDistance, executionTime, solutionPath))\n",
    "}"
   ]
  },
  {
   "cell_type": "code",
   "execution_count": 9,
   "metadata": {},
   "outputs": [],
   "source": [
    "# Benchmarking function\n",
    "benchmark <- function(inputFile, methods) {\n",
    "    cat(\"Input file:\", inputFile)\n",
    "    distances <- as.matrix(read.table(inputFile, sep = ',', header = TRUE))\n",
    "    nCities = nrow(distances)\n",
    "    cat(\"\\nNumber of cities:\", nCities)\n",
    "    nInf <- sum(is.infinite(distances))/2\n",
    "    nRoads <- nCities*(nCities - 1)/2\n",
    "    completeness <- 1 - nInf/nRoads\n",
    "    cat(\"\\nCompleteness:\", completeness)\n",
    "    cat(\"\\n----------------------------------------------\\n\")\n",
    "    for(method in methods) {\n",
    "        results <- solveTSP(distances, method)\n",
    "        cat(\"Method:\", method, \"\\nCost:\", results[1], \"\\nExecution time:\", sprintf(\"%.10f\", results[2]), \"\\nPath:\", results[3:(nCities + 2)])\n",
    "        cat(\"\\n\\n\")\n",
    "    }\n",
    "}"
   ]
  },
  {
   "cell_type": "code",
   "execution_count": 10,
   "metadata": {},
   "outputs": [],
   "source": [
    "# Performs benchmarking for all test files\n",
    "benchmarkTest <- function(inputFolder = \"./benchmark_inputs/\", methods) {\n",
    "    benchmarkFiles <- list.files(path = inputFolder, pattern=\"*.csv\", full.names = TRUE, recursive = FALSE)\n",
    "    for(file in benchmarkFiles) {\n",
    "        benchmark(file, methods)\n",
    "    }\n",
    "}"
   ]
  },
  {
   "cell_type": "code",
   "execution_count": 13,
   "metadata": {},
   "outputs": [
    {
     "name": "stdout",
     "output_type": "stream",
     "text": [
      "Input file: ./benchmark_inputs/random7.csv\n",
      "Number of cities: 300\n",
      "Completeness: 0.9965886\n",
      "----------------------------------------------\n",
      "Method: greedy \n",
      "Cost: 1685 \n",
      "Execution time: 0.2789931297 \n",
      "Path: 1 249 222 8 38 242 55 286 29 54 134 82 296 46 189 264 57 228 119 246 212 233 69 173 30 66 268 114 186 9 155 10 75 45 197 198 11 184 168 35 145 44 252 84 59 83 236 270 5 80 131 102 128 183 253 247 17 245 100 292 297 18 137 88 288 293 215 24 64 206 28 132 16 267 263 78 79 52 162 90 96 208 262 98 282 103 86 161 133 274 51 269 192 6 260 97 290 27 47 15 130 74 121 140 109 217 150 142 166 25 149 176 7 101 273 144 167 200 76 157 254 275 13 244 199 33 61 271 34 285 14 185 194 19 221 77 154 113 280 172 95 3 136 56 104 67 73 143 182 179 165 175 105 191 243 58 190 70 250 223 278 108 107 240 277 298 257 141 53 148 196 120 68 43 65 300 4 259 261 209 48 231 272 281 193 204 36 106 72 20 170 91 87 241 158 287 248 116 171 60 225 276 26 207 112 234 71 229 203 138 218 89 251 211 181 295 135 235 220 117 2 187 139 283 265 41 163 210 169 93 92 81 126 224 129 195 115 174 232 160 237 214 63 239 62 177 23 85 49 42 219 146 202 40 122 216 127 124 289 238 266 99 256 201 31 205 22 227 110 39 153 50 118 294 226 123 258 188 178 12 156 125 279 159 147 255 180 32 284 164 21 37 291 151 230 213 299 111 152 94\n",
      "\n",
      "Method: greedy-2opt \n",
      "Cost: 1139 \n",
      "Execution time: 4.2021632195 \n",
      "Path: 1 21 103 282 147 159 279 125 215 24 49 42 35 168 184 11 276 26 207 112 234 71 229 171 116 248 287 158 241 87 91 170 20 72 106 36 204 193 281 177 62 199 33 61 188 258 123 226 294 118 50 153 154 77 221 19 194 185 14 285 34 271 178 12 156 300 65 43 68 120 196 148 53 141 257 298 277 240 107 37 246 119 228 57 32 60 225 64 23 85 46 189 264 275 254 157 76 200 167 144 273 101 7 160 232 174 115 195 129 224 126 81 92 93 169 210 163 41 265 283 139 187 2 117 220 235 135 295 181 211 251 89 218 138 203 186 114 268 66 30 173 69 233 212 31 201 180 9 155 10 75 45 197 198 291 151 219 146 202 40 122 216 127 124 289 238 266 99 256 255 84 252 44 145 208 96 90 162 52 79 78 263 214 237 59 213 230 262 98 227 152 284 13 244 239 63 267 16 132 28 206 272 231 48 209 261 259 4 293 288 88 137 18 297 292 100 245 17 247 253 183 128 102 131 80 5 270 236 83 299 111 39 110 113 280 172 95 3 136 56 104 67 73 143 182 179 165 175 105 191 243 58 190 70 250 223 278 108 94 205 22 176 149 25 166 142 150 217 109 140 121 74 130 15 47 27 290 97 260 6 192 269 51 274 133 161 86 164 249 222 8 38 242 55 286 29 54 134 82 296\n",
      "\n"
     ]
    }
   ],
   "source": [
    "myMethods <- c(\"greedy\", \"greedy-2opt\")\n",
    "benchmarkTest(methods = myMethods)"
   ]
  },
  {
   "cell_type": "markdown",
   "metadata": {},
   "source": [
    "\tgreedy\tgreedy 2-opt\t2-opt increase\n",
    "4\t0.0260868073\t0.0468690395\t1.7966567913429559\n",
    "10\t0.0009989738\t0.0069999695\t7.007160247846339\n",
    "20\t0.015625\t0.0342509747\t2.1920623808\n",
    "30\t0.0039989948\t0.1365249157\t34.13980825881544\n",
    "50\t0.0340018272\t1.0048680305\t29.553353841525315\n",
    "100\t0.0170009136\t7.6376128197\t449.24719926227965\n",
    "200\t0.1339969635\t1.2781398654\t9.538573352820789\n",
    "300\t0.2789931297\t4.2021632195\t15.061887810709052\n"
   ]
  },
  {
   "cell_type": "code",
   "execution_count": null,
   "metadata": {},
   "outputs": [],
   "source": []
  }
 ],
 "metadata": {
  "kernelspec": {
   "display_name": "R",
   "language": "R",
   "name": "ir"
  },
  "language_info": {
   "codemirror_mode": "r",
   "file_extension": ".r",
   "mimetype": "text/x-r-source",
   "name": "R",
   "pygments_lexer": "r",
   "version": "3.5.1"
  }
 },
 "nbformat": 4,
 "nbformat_minor": 2
}

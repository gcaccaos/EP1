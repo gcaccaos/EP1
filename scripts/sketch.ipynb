{
 "cells": [
  {
   "cell_type": "code",
   "execution_count": 1,
   "metadata": {},
   "outputs": [],
   "source": [
    "# Creates a simple random distance matrix\n",
    "randDistInput <- function(nCities, minDist = 1, maxDist = 100) {\n",
    "    nRows <- nCities**2;\n",
    "    randDistances <- sample(minDist:maxDist, nRows)\n",
    "    distances <- matrix(randDistances, nCities, nCities)\n",
    "    for(i in 1:nCities) {\n",
    "        for(j in 1:nCities) {\n",
    "            if(runif(1, min = 0, max = 1) < 1/(2*nCities)) {\n",
    "                distances[i, j] <- Inf\n",
    "            }\n",
    "            distances[j, i] <- distances [i, j]\n",
    "        }\n",
    "        distances[i, i] <- 0\n",
    "    }\n",
    "    return(distances)\n",
    "}"
   ]
  },
  {
   "cell_type": "code",
   "execution_count": 2,
   "metadata": {
    "collapsed": true
   },
   "outputs": [],
   "source": [
    "# Calcualtes all the possible permutations\n",
    "permutations <- function(n) {\n",
    "    if(n == 1) return(matrix(1))\n",
    "    else {\n",
    "        sp <- permutations(n - 1)\n",
    "        p <- nrow(sp)\n",
    "        A <- matrix(nrow = n*p, ncol = n)\n",
    "        for(i in 1:n) {\n",
    "            A[(i - 1)*p + 1:p, ] <- cbind(i, sp + (sp >= i))\n",
    "        }\n",
    "        return(A)\n",
    "    }\n",
    "}"
   ]
  },
  {
   "cell_type": "code",
   "execution_count": 3,
   "metadata": {},
   "outputs": [],
   "source": [
    "getTotalDistance <- function(path, distances) {\n",
    "    path <- c(path, path[1])\n",
    "    totalDistance <- 0\n",
    "    for(n in 1:(length(path) - 1)) {\n",
    "        totalDistance <- totalDistance + distances[path[n], path[n + 1]]\n",
    "    }\n",
    "    return(totalDistance)\n",
    "}"
   ]
  },
  {
   "cell_type": "code",
   "execution_count": 4,
   "metadata": {},
   "outputs": [],
   "source": [
    "bruteForcePath <- function(distances) {\n",
    "    shortestPathLength <- Inf\n",
    "    nCities <- nrow(distances)\n",
    "    possiblePaths <- cbind(c(1), permutations(nCities - 1) + 1)\n",
    "    for(nPath in 1:nrow(possiblePaths)) {\n",
    "        path <- possiblePaths[nPath, ]\n",
    "        thisPathLength <- getTotalDistance(path, distances)\n",
    "        if(thisPathLength < shortestPathLength) {\n",
    "            minPathNumber <- nPath\n",
    "            shortestPathLength <- thisPathLength\n",
    "        } \n",
    "    }\n",
    "    minPath <- possiblePaths[minPathNumber, ]\n",
    "    return(minPath)\n",
    "}"
   ]
  },
  {
   "cell_type": "code",
   "execution_count": 5,
   "metadata": {},
   "outputs": [],
   "source": [
    "greedySolution <- function(distances) {\n",
    "    nCities <- nrow(distances)\n",
    "    visitedCities <- c(1)\n",
    "    # choose next city\n",
    "    while(length(visitedCities) < nCities) {\n",
    "        currentCity <- tail(visitedCities, n = 1)\n",
    "        neighboursDistances <- distances[currentCity, ]\n",
    "        minDist <- Inf\n",
    "        availableNeighbours <- 1:nCities\n",
    "        availableNeighbours <- availableNeighbours[!(availableNeighbours %in% visitedCities)]\n",
    "        for(neighbour in availableNeighbours) {\n",
    "            thisDistance <- neighboursDistances[neighbour]\n",
    "            if(thisDistance < minDist) {\n",
    "                nextCity <- neighbour\n",
    "                minDist <- thisDistance\n",
    "            }\n",
    "        }\n",
    "        visitedCities <- c(visitedCities, nextCity)\n",
    "    }\n",
    "    return(visitedCities)\n",
    "}"
   ]
  },
  {
   "cell_type": "code",
   "execution_count": 6,
   "metadata": {},
   "outputs": [],
   "source": [
    "solveTSP <- function(distances, method = \"auto\") {\n",
    "    cat(\"Distance matrix:\\n\")\n",
    "    print(distances)\n",
    "    \n",
    "    startTime <- Sys.time()\n",
    "    \n",
    "    nCities = nrow(distances)\n",
    "    nInf <- sum(is.infinite(distances))\n",
    "    nRoads <- nCities**2 - nCities\n",
    "    completeness <- 1 - nInf/nRoads\n",
    "    \n",
    "    if(method == \"auto\") {\n",
    "        if(nCities < 9) {\n",
    "            method <- \"exact\"\n",
    "        }\n",
    "        else {\n",
    "            method <- \"greedy\"\n",
    "        }\n",
    "    }\n",
    "    \n",
    "    if(method == \"exact\") {\n",
    "        solutionPath <- bruteForcePath(distances)\n",
    "    }\n",
    "    else if(method == \"greedy\") {\n",
    "        solutionPath <- greedySolution(distances)\n",
    "    }\n",
    "    executionTime <- Sys.time() - startTime\n",
    "    \n",
    "    solutionDistance <- getTotalDistance(solutionPath, distances)\n",
    "    \n",
    "    cat(\"Completeness:\", completeness,\"\\nMethod:\", method, \"\\nCost:\", solutionDistance, \"\\nExecution time:\", executionTime, \"\\nPath:\", solutionPath)\n",
    "}"
   ]
  },
  {
   "cell_type": "code",
   "execution_count": 7,
   "metadata": {},
   "outputs": [
    {
     "name": "stdout",
     "output_type": "stream",
     "text": [
      "Distance matrix:\n",
      "      V1 V2  V3 V4\n",
      "[1,]   0 38 Inf 50\n",
      "[2,]  38  0  88 71\n",
      "[3,] Inf 88   0 29\n",
      "[4,]  50 71  29  0\n",
      "Completeness: 0.8333333 \n",
      "Method: exact \n",
      "Cost: 205 \n",
      "Execution time: 0.08492589 \n",
      "Path: 1 2 3 4\n",
      "\n",
      "Distance matrix:\n",
      "      V1 V2  V3 V4\n",
      "[1,]   0 38 Inf 50\n",
      "[2,]  38  0  88 71\n",
      "[3,] Inf 88   0 29\n",
      "[4,]  50 71  29  0\n",
      "Completeness: 0.8333333 \n",
      "Method: greedy \n",
      "Cost: Inf \n",
      "Execution time: 0.03125691 \n",
      "Path: 1 2 4 3"
     ]
    }
   ],
   "source": [
    "# Example input\n",
    "exampleDistances <- as.matrix(read.table(\"./inputs/example1.csv\", sep = ',', header = TRUE))\n",
    "solveTSP(exampleDistances, method = \"exact\")\n",
    "cat(\"\\n\\n\")\n",
    "solveTSP(exampleDistances, method = \"greedy\")"
   ]
  },
  {
   "cell_type": "code",
   "execution_count": 9,
   "metadata": {},
   "outputs": [
    {
     "name": "stdout",
     "output_type": "stream",
     "text": [
      "Distance matrix:\n",
      "     V1 V2 V3 V4  V5 V6  V7 V8\n",
      "[1,]  0 68 48 45  90 30  35 51\n",
      "[2,] 68  0 64 14  94 28  25 34\n",
      "[3,] 48 64  0 36  17 96  19  2\n",
      "[4,] 45 14 36  0  46 79  58 98\n",
      "[5,] 90 94 17 46   0 74 Inf 56\n",
      "[6,] 30 28 96 79  74  0   5 78\n",
      "[7,] 35 25 19 58 Inf  5   0 18\n",
      "[8,] 51 34  2 98  56 78  18  0\n",
      "Completeness: 0.9642857 \n",
      "Method: exact \n",
      "Cost: 190 \n",
      "Execution time: 0.4111779 \n",
      "Path: 1 6 2 4 5 3 8 7\n",
      "\n",
      "Distance matrix:\n",
      "     V1 V2 V3 V4  V5 V6  V7 V8\n",
      "[1,]  0 68 48 45  90 30  35 51\n",
      "[2,] 68  0 64 14  94 28  25 34\n",
      "[3,] 48 64  0 36  17 96  19  2\n",
      "[4,] 45 14 36  0  46 79  58 98\n",
      "[5,] 90 94 17 46   0 74 Inf 56\n",
      "[6,] 30 28 96 79  74  0   5 78\n",
      "[7,] 35 25 19 58 Inf  5   0 18\n",
      "[8,] 51 34  2 98  56 78  18  0\n",
      "Completeness: 0.9642857 \n",
      "Method: greedy \n",
      "Cost: 200 \n",
      "Execution time: 0.001999855 \n",
      "Path: 1 6 7 8 3 5 4 2"
     ]
    }
   ],
   "source": [
    "# Random input\n",
    "randomDistances <- as.matrix(read.table(\"./inputs/random1.csv\", sep = ',', header = TRUE))\n",
    "solveTSP(randomDistances, method = \"exact\")\n",
    "cat(\"\\n\\n\")\n",
    "solveTSP(randomDistances, method = \"greedy\")"
   ]
  },
  {
   "cell_type": "code",
   "execution_count": null,
   "metadata": {},
   "outputs": [],
   "source": [
    "# To do: implement 2-opt greedy algorithm"
   ]
  }
 ],
 "metadata": {
  "kernelspec": {
   "display_name": "R",
   "language": "R",
   "name": "ir"
  },
  "language_info": {
   "codemirror_mode": "r",
   "file_extension": ".r",
   "mimetype": "text/x-r-source",
   "name": "R",
   "pygments_lexer": "r",
   "version": "3.5.1"
  }
 },
 "nbformat": 4,
 "nbformat_minor": 2
}
